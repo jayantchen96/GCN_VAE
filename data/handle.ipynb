{
 "cells": [
  {
   "cell_type": "code",
   "execution_count": 88,
   "id": "1fe017a4-0d29-4f9e-a9ae-5e88e3f71419",
   "metadata": {},
   "outputs": [],
   "source": [
    "import torch\n",
    "import numpy as np\n",
    "import pandas as pd\n",
    "import matplotlib as mpl\n",
    "import matplotlib.pyplot as plt\n",
    "import pickle as pkl\n",
    "import os\n",
    "import math\n",
    "import random\n",
    "import datetime\n",
    "from tqdm import tqdm\n",
    "%matplotlib widget"
   ]
  },
  {
   "cell_type": "code",
   "execution_count": 18,
   "id": "471c20ee-829a-4f13-95bc-5ca85bd2af1c",
   "metadata": {},
   "outputs": [],
   "source": [
    "def seed_everything(seed=42):\n",
    "    random.seed(seed)\n",
    "    os.environ['PYHTONHASHSEED'] = str(seed)\n",
    "    np.random.seed(seed)\n",
    "    torch.manual_seed(seed)\n",
    "    if torch.cuda.is_available():\n",
    "        torch.cuda.manual_seed(seed)\n",
    "        torch.cuda.manual_seed_all(seed)\n",
    "        torch.backends.cudnn.deterministic = True\n",
    "\n",
    "seed_everything(seed=10086)"
   ]
  },
  {
   "cell_type": "markdown",
   "id": "bf88ee75-591c-41cc-875f-50a34c4572ed",
   "metadata": {},
   "source": [
    "# 数据集处理"
   ]
  },
  {
   "cell_type": "code",
   "execution_count": 59,
   "id": "08521bef-f853-4eaa-aaa0-ef6674491a5b",
   "metadata": {},
   "outputs": [],
   "source": [
    "# 输出目录\n",
    "output_dir = 'processed'"
   ]
  },
  {
   "cell_type": "markdown",
   "id": "f0fe7c14-3192-4e21-a462-4f573ca9f602",
   "metadata": {},
   "source": [
    "## 缺失值设置"
   ]
  },
  {
   "cell_type": "markdown",
   "id": "50bd2bea-19a0-4ac6-9662-8fad38a2ba09",
   "metadata": {},
   "source": [
    "缺失比例设置为[10%, 30%, 50%]"
   ]
  },
  {
   "cell_type": "code",
   "execution_count": 60,
   "id": "696a96f4-26e1-443f-89bc-610b7ca81592",
   "metadata": {},
   "outputs": [],
   "source": [
    "miss_rates = [10, 30, 50]"
   ]
  },
  {
   "cell_type": "markdown",
   "id": "78c8e25a-6499-47c2-868f-03641a1e9f9b",
   "metadata": {},
   "source": [
    "**mask矩阵 0->missing ; 1->observed**"
   ]
  },
  {
   "cell_type": "code",
   "execution_count": 61,
   "id": "3a5e5a35-5b34-434b-b6dd-4325a13f65b1",
   "metadata": {},
   "outputs": [],
   "source": [
    "# (MCAR) Missing completely at random\n",
    "def generate_mcar_mask(samples, ratio=0.1):\n",
    "    assert isinstance(samples, np.ndarray)\n",
    "\n",
    "    mask_matrix = np.random.choice([0, 1], size=samples.shape, p=[ratio, 1 - ratio])\n",
    "\n",
    "    return mask_matrix"
   ]
  },
  {
   "cell_type": "markdown",
   "id": "a4504bf6-a4de-4c8e-af7f-1f1b44a7d245",
   "metadata": {},
   "source": [
    "## 训练集/测试集 划分设置"
   ]
  },
  {
   "cell_type": "markdown",
   "id": "c8fdc7ae-87e1-491f-b694-171da6bf153b",
   "metadata": {},
   "source": [
    "训练集为整个数据集的前2/3，剩余为测试集"
   ]
  },
  {
   "cell_type": "code",
   "execution_count": 62,
   "id": "79d58233-fd4f-43ad-890a-3f309aa9a070",
   "metadata": {},
   "outputs": [],
   "source": [
    "train_proportion = 2. / 3\n",
    "test_proportion = 1. - train_proportion"
   ]
  },
  {
   "cell_type": "markdown",
   "id": "714c9ee6-36ea-490f-986b-9626def2c0f8",
   "metadata": {},
   "source": [
    "## GHG数据集"
   ]
  },
  {
   "cell_type": "code",
   "execution_count": 6,
   "id": "454c5d4b-f085-42a4-807d-fcf43d374dc6",
   "metadata": {},
   "outputs": [
    {
     "name": "stdout",
     "output_type": "stream",
     "text": [
      "GHG文件夹中有2921个子文件\n"
     ]
    }
   ],
   "source": [
    "ghg_dir = 'GHG'\n",
    "num_files = len(os.listdir(ghg_dir))\n",
    "print(f'GHG文件夹中有{num_files}个子文件')"
   ]
  },
  {
   "cell_type": "code",
   "execution_count": 21,
   "id": "51f610c3-2878-41f6-97d0-05530394d3e3",
   "metadata": {},
   "outputs": [
    {
     "data": {
      "text/plain": [
       "array([  82,   93,  312,  645, 1573, 2099, 2853])"
      ]
     },
     "execution_count": 21,
     "metadata": {},
     "output_type": "execute_result"
    }
   ],
   "source": [
    "# 随机选指定数量的文件当devices\n",
    "num_devices = 7\n",
    "indexes = np.random.choice(num_files, num_devices, replace=False)\n",
    "indexes.sort()\n",
    "indexes"
   ]
  },
  {
   "cell_type": "code",
   "execution_count": 49,
   "id": "a0c7809c-8869-4b74-8dd9-a1bd673977f2",
   "metadata": {},
   "outputs": [],
   "source": [
    "# 读取 dat 文件 转成numpy数组\n",
    "ghg_list = []\n",
    "for index in indexes:    \n",
    "    filepath = os.path.join(ghg_dir, 'ghg.gid.site' + str(index).zfill(4) + '.dat')\n",
    "    df = pd.read_csv(filepath, sep = \" \", header=None, dtype=np.float32) \n",
    "    data = df.values\n",
    "    data = np.transpose(data, (1, 0))\n",
    "    ghg_list.append(data)\n",
    "\n",
    "ghg_arr = np.stack(ghg_list, axis=1)"
   ]
  },
  {
   "cell_type": "code",
   "execution_count": 53,
   "id": "f33dd790-19c7-4504-96e7-b5eefdb825f1",
   "metadata": {},
   "outputs": [
    {
     "data": {
      "text/plain": [
       "(327, 7, 16)"
      ]
     },
     "execution_count": 53,
     "metadata": {},
     "output_type": "execute_result"
    }
   ],
   "source": [
    "# (seq_len, num_devices, num_features)\n",
    "ghg_arr.shape"
   ]
  },
  {
   "cell_type": "code",
   "execution_count": 55,
   "id": "1181b93c-0fea-4bc8-a992-75db8226fd9a",
   "metadata": {},
   "outputs": [],
   "source": [
    "# 保存成 npy 文件\n",
    "np.save(os.path.join(output_dir, 'ghg.npy'), ghg_arr)"
   ]
  },
  {
   "cell_type": "code",
   "execution_count": 58,
   "id": "56a8c5bc-4b26-4625-a288-88fbe998bf14",
   "metadata": {},
   "outputs": [
    {
     "name": "stdout",
     "output_type": "stream",
     "text": [
      "(327, 7, 16)\n"
     ]
    }
   ],
   "source": [
    "# 加载数组\n",
    "ghg_arr = np.load(os.path.join(output_dir, 'ghg.npy'))\n",
    "print(ghg_arr.shape)"
   ]
  },
  {
   "cell_type": "code",
   "execution_count": 64,
   "id": "ff110bca-47a5-4dbd-b0a1-64a7317fa204",
   "metadata": {},
   "outputs": [],
   "source": [
    "# 生成 mask\n",
    "for rate in miss_rates:\n",
    "    mask = generate_mcar_mask(ghg_arr, ratio=rate / 100.)\n",
    "    np.save(os.path.join(output_dir, f'ghg_mask_{rate}.npy'), mask)"
   ]
  },
  {
   "cell_type": "markdown",
   "id": "8c94bf61-0e76-44d1-a1ea-757cde12e5c6",
   "metadata": {},
   "source": [
    "## PRSA数据集"
   ]
  },
  {
   "cell_type": "code",
   "execution_count": 87,
   "id": "9734027a-ac94-4bbb-b234-b535bd3f1f2d",
   "metadata": {},
   "outputs": [],
   "source": [
    "def temporal_KNN(seq, k_num):\n",
    "    \"\"\"\n",
    "    时间KNN\n",
    "    :param seq: 含有NAN的时间序列\n",
    "    :param k_num: K近邻数\n",
    "    :return: 补全的时间序列\n",
    "    \"\"\"\n",
    "    ret = np.copy(seq)\n",
    "    for index in range(len(seq)):\n",
    "        if ~np.isnan(seq[index]):\n",
    "            continue\n",
    "\n",
    "        candi = []\n",
    "\n",
    "        offset = 1\n",
    "        while offset < max(index, len(seq) - index) and len(candi) < k_num:\n",
    "            if index - offset >= 0 and ~np.isnan(ret[index - offset]):\n",
    "                candi.append((offset, ret[index - offset]))\n",
    "            if index + offset < len(seq) and ~np.isnan(ret[index + offset]):\n",
    "                candi.append((offset, ret[index + offset]))\n",
    "            offset += 1\n",
    "\n",
    "        if len(candi) > 0:\n",
    "            candi.sort(key=lambda elem: elem[0])\n",
    "            p = 0.\n",
    "            weights = 0.\n",
    "            mean_val = 0.\n",
    "            for x in range(min(len(candi), k_num)):\n",
    "                # 加权算法\n",
    "                weights += 1. / candi[x][0]\n",
    "                p += candi[x][1] / candi[x][0]\n",
    "\n",
    "                # 平均值算法\n",
    "                # mean_val += candi[x][1]\n",
    "\n",
    "            # seq[index] = mean_val / min(len(candi), k_num)\n",
    "            seq[index] = p / weights\n",
    "\n",
    "    return seq"
   ]
  },
  {
   "cell_type": "code",
   "execution_count": 68,
   "id": "a5661882-f4ef-4e92-a96d-609cd7b6b139",
   "metadata": {},
   "outputs": [
    {
     "name": "stdout",
     "output_type": "stream",
     "text": [
      "PRSA文件夹中有12个子文件\n"
     ]
    }
   ],
   "source": [
    "prsa_dir = 'PRSA'\n",
    "num_files = len(os.listdir(prsa_dir))\n",
    "print(f'PRSA文件夹中有{num_files}个子文件')"
   ]
  },
  {
   "cell_type": "code",
   "execution_count": 116,
   "id": "147419c3-a58e-483a-8e76-8fd39a7ca775",
   "metadata": {},
   "outputs": [
    {
     "name": "stderr",
     "output_type": "stream",
     "text": [
      "100%|██████████| 72/72 [00:15<00:00,  4.56it/s]"
     ]
    },
    {
     "name": "stdout",
     "output_type": "stream",
     "text": [
      "(35064, 12, 6)\n",
      "处理后的数据含有的缺失值数量: 0\n"
     ]
    },
    {
     "name": "stderr",
     "output_type": "stream",
     "text": [
      "\n"
     ]
    }
   ],
   "source": [
    "# 用KNN补全NAN做预处理\n",
    "monitor_list = []\n",
    "with tqdm(total=72) as pbar:\n",
    "    for filename in os.listdir(prsa_dir):\n",
    "        if filename.startswith('PRSA'):\n",
    "            df = pd.read_csv(os.path.join(prsa_dir, filename), sep=',')\n",
    "            monitor_arr = df.iloc[:, 5:11].values\n",
    "    #         extra_arr = df.iloc[:, 11:17].values\n",
    "            for i in range(6):\n",
    "                monitor_arr[:,i] = temporal_KNN(monitor_arr[:,i], k_num=2)\n",
    "                pbar.update(1)\n",
    "\n",
    "            monitor_list.append(monitor_arr)\n",
    "\n",
    "monitor_data = np.stack(monitor_list, axis=1)\n",
    "print(monitor_data.shape)\n",
    "print('处理后的数据含有的缺失值数量:', np.isnan(monitor_data).sum())\n",
    "        "
   ]
  },
  {
   "cell_type": "code",
   "execution_count": 125,
   "id": "6f6cb1dd-6a7e-4372-8d3c-59ad33cd1a00",
   "metadata": {},
   "outputs": [],
   "source": [
    "# 保存成 npy 文件\n",
    "np.save(os.path.join(output_dir, 'prsa.npy'), monitor_data)"
   ]
  },
  {
   "cell_type": "code",
   "execution_count": 126,
   "id": "54ba3285-7475-4f64-bcdf-c49628aeb271",
   "metadata": {},
   "outputs": [],
   "source": [
    "# 生成 mask\n",
    "for rate in miss_rates:\n",
    "    mask = generate_mcar_mask(monitor_data, ratio=rate / 100.)\n",
    "    np.save(os.path.join(output_dir, f'prsa_mask_{rate}.npy'), mask)"
   ]
  },
  {
   "cell_type": "code",
   "execution_count": null,
   "id": "5cc73068-514b-4927-9913-eea4aee5b0bb",
   "metadata": {},
   "outputs": [],
   "source": []
  }
 ],
 "metadata": {
  "kernelspec": {
   "display_name": "Python 3",
   "language": "python",
   "name": "python3"
  },
  "language_info": {
   "codemirror_mode": {
    "name": "ipython",
    "version": 3
   },
   "file_extension": ".py",
   "mimetype": "text/x-python",
   "name": "python",
   "nbconvert_exporter": "python",
   "pygments_lexer": "ipython3",
   "version": "3.8.8"
  }
 },
 "nbformat": 4,
 "nbformat_minor": 5
}
